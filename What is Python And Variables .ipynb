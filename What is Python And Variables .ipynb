{
 "cells": [
  {
   "cell_type": "markdown",
   "id": "9e9d3939",
   "metadata": {},
   "source": [
    "# What Is Python ? "
   ]
  },
  {
   "cell_type": "markdown",
   "id": "c5835107",
   "metadata": {},
   "source": [
    "* Python is a high-level \n",
    "* interpreted, \n",
    "* general-purpose programming language \n",
    "* known for its simplicity and readability."
   ]
  },
  {
   "cell_type": "code",
   "execution_count": null,
   "id": "8cb38a7a",
   "metadata": {},
   "outputs": [],
   "source": []
  },
  {
   "cell_type": "markdown",
   "id": "b3252142",
   "metadata": {},
   "source": [
    "# How To Comment The Line In Python "
   ]
  },
  {
   "cell_type": "markdown",
   "id": "6dd40ea0",
   "metadata": {},
   "source": [
    "* In Python We will Add The ('#') for commenting a line "
   ]
  },
  {
   "cell_type": "code",
   "execution_count": null,
   "id": "223e5cf2",
   "metadata": {},
   "outputs": [],
   "source": []
  },
  {
   "cell_type": "markdown",
   "id": "d429706b",
   "metadata": {},
   "source": [
    "# Variable In Python"
   ]
  },
  {
   "cell_type": "code",
   "execution_count": 12,
   "id": "f7da25e7",
   "metadata": {},
   "outputs": [
    {
     "data": {
      "text/plain": [
       "1"
      ]
     },
     "execution_count": 12,
     "metadata": {},
     "output_type": "execute_result"
    }
   ],
   "source": [
    "# Variables only starts with alphabates and then numbers eg: a1=10    \n",
    "\n",
    "A= 1   # A is called variable it means 'A' Stores the Value in it\n",
    "A"
   ]
  },
  {
   "cell_type": "code",
   "execution_count": 14,
   "id": "d8596fde",
   "metadata": {},
   "outputs": [
    {
     "ename": "SyntaxError",
     "evalue": "cannot assign to literal here. Maybe you meant '==' instead of '='? (2355476884.py, line 1)",
     "output_type": "error",
     "traceback": [
      "\u001b[1;36m  Cell \u001b[1;32mIn[14], line 1\u001b[1;36m\u001b[0m\n\u001b[1;33m    1=2   # thats why we can't use the numbers\u001b[0m\n\u001b[1;37m    ^\u001b[0m\n\u001b[1;31mSyntaxError\u001b[0m\u001b[1;31m:\u001b[0m cannot assign to literal here. Maybe you meant '==' instead of '='?\n"
     ]
    }
   ],
   "source": [
    "1=2   # thats why we can't use the numbers\n",
    "\n",
    "1"
   ]
  },
  {
   "cell_type": "code",
   "execution_count": 3,
   "id": "2b7f4594",
   "metadata": {},
   "outputs": [
    {
     "data": {
      "text/plain": [
       "'Hello'"
      ]
     },
     "execution_count": 3,
     "metadata": {},
     "output_type": "execute_result"
    }
   ],
   "source": [
    "A=\"Hello\" \n",
    "\n",
    "# In a Variable We will Add anything like numbers, Alphabates, Symbols etc \n",
    "\n",
    "A          "
   ]
  },
  {
   "cell_type": "code",
   "execution_count": 5,
   "id": "0b6ad64f",
   "metadata": {},
   "outputs": [
    {
     "data": {
      "text/plain": [
       "3"
      ]
     },
     "execution_count": 5,
     "metadata": {},
     "output_type": "execute_result"
    }
   ],
   "source": [
    "# few examples of variables \n",
    "\n",
    "a,b = 3,4  # in this example a means 3 and b means 4\n",
    "a"
   ]
  },
  {
   "cell_type": "code",
   "execution_count": 6,
   "id": "1829da68",
   "metadata": {},
   "outputs": [
    {
     "data": {
      "text/plain": [
       "1"
      ]
     },
     "execution_count": 6,
     "metadata": {},
     "output_type": "execute_result"
    }
   ],
   "source": [
    "x,y,z = [1,2,3]\n",
    "x"
   ]
  },
  {
   "cell_type": "code",
   "execution_count": 7,
   "id": "0ae17a6e",
   "metadata": {},
   "outputs": [
    {
     "data": {
      "text/plain": [
       "[1, 2, 3]"
      ]
     },
     "execution_count": 7,
     "metadata": {},
     "output_type": "execute_result"
    }
   ],
   "source": [
    "x=y=z  = [1,2,3]    # All are Equals to list\n",
    "x "
   ]
  },
  {
   "cell_type": "code",
   "execution_count": 10,
   "id": "8d91a9d3",
   "metadata": {},
   "outputs": [
    {
     "data": {
      "text/plain": [
       "20"
      ]
     },
     "execution_count": 10,
     "metadata": {},
     "output_type": "execute_result"
    }
   ],
   "source": [
    "# swapping the variables \n",
    "\n",
    "a= 10\n",
    "b= 20\n",
    "\n",
    "a,b = b,a\n",
    "a\n"
   ]
  },
  {
   "cell_type": "code",
   "execution_count": null,
   "id": "7a4324b3",
   "metadata": {},
   "outputs": [],
   "source": []
  }
 ],
 "metadata": {
  "kernelspec": {
   "display_name": "Python 3 (ipykernel)",
   "language": "python",
   "name": "python3"
  },
  "language_info": {
   "codemirror_mode": {
    "name": "ipython",
    "version": 3
   },
   "file_extension": ".py",
   "mimetype": "text/x-python",
   "name": "python",
   "nbconvert_exporter": "python",
   "pygments_lexer": "ipython3",
   "version": "3.11.5"
  }
 },
 "nbformat": 4,
 "nbformat_minor": 5
}
